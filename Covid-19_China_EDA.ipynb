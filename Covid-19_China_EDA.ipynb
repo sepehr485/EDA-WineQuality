{
 "cells": [
  {
   "cell_type": "markdown",
   "metadata": {
    "colab_type": "text",
    "id": "YQbQ6z-Tn1Ju"
   },
   "source": [
    "## Instructions Before Making Your Hands Dirty\n",
    "Recommended to go through the dataset description here: https://www.kaggle.com/sudalairajkumar/novel-corona-virus-2019-dataset. We have used the dataset named 'covid_19_data.csv' file.\n",
    "\n",
    "**Note:** To solve these questions please load the data from here: https://raw.githubusercontent.com/dphi-official/Datasets/master/covid_19_data.csv because the data at kaggle is updated everyday using which might lead to get you wrong answers for this particular assignment."
   ]
  },
  {
   "cell_type": "code",
   "execution_count": 0,
   "metadata": {
    "colab": {},
    "colab_type": "code",
    "id": "cnp17BOxmTtE"
   },
   "outputs": [],
   "source": [
    "import pandas as pd\n",
    "import numpy as np\n",
    "import matplotlib.pyplot as plt\n",
    "import seaborn as sns"
   ]
  },
  {
   "cell_type": "code",
   "execution_count": 0,
   "metadata": {
    "colab": {},
    "colab_type": "code",
    "id": "GrvtnbB8oIn4"
   },
   "outputs": [],
   "source": [
    "data = pd.read_csv(\"https://raw.githubusercontent.com/dphi-official/Datasets/master/covid_19_data.csv\")"
   ]
  },
  {
   "cell_type": "code",
   "execution_count": 0,
   "metadata": {
    "colab": {
     "base_uri": "https://localhost:8080/",
     "height": 203
    },
    "colab_type": "code",
    "id": "IIpXdVEEobb9",
    "outputId": "7f055b47-723c-47e7-9538-53662839f4ef"
   },
   "outputs": [
    {
     "data": {
      "text/html": [
       "<div>\n",
       "<style scoped>\n",
       "    .dataframe tbody tr th:only-of-type {\n",
       "        vertical-align: middle;\n",
       "    }\n",
       "\n",
       "    .dataframe tbody tr th {\n",
       "        vertical-align: top;\n",
       "    }\n",
       "\n",
       "    .dataframe thead th {\n",
       "        text-align: right;\n",
       "    }\n",
       "</style>\n",
       "<table border=\"1\" class=\"dataframe\">\n",
       "  <thead>\n",
       "    <tr style=\"text-align: right;\">\n",
       "      <th></th>\n",
       "      <th>SNo</th>\n",
       "      <th>ObservationDate</th>\n",
       "      <th>Province/State</th>\n",
       "      <th>Country/Region</th>\n",
       "      <th>Last Update</th>\n",
       "      <th>Confirmed</th>\n",
       "      <th>Deaths</th>\n",
       "      <th>Recovered</th>\n",
       "    </tr>\n",
       "  </thead>\n",
       "  <tbody>\n",
       "    <tr>\n",
       "      <th>0</th>\n",
       "      <td>1</td>\n",
       "      <td>01/22/2020</td>\n",
       "      <td>Anhui</td>\n",
       "      <td>Mainland China</td>\n",
       "      <td>1/22/2020 17:00</td>\n",
       "      <td>1.0</td>\n",
       "      <td>0.0</td>\n",
       "      <td>0.0</td>\n",
       "    </tr>\n",
       "    <tr>\n",
       "      <th>1</th>\n",
       "      <td>2</td>\n",
       "      <td>01/22/2020</td>\n",
       "      <td>Beijing</td>\n",
       "      <td>Mainland China</td>\n",
       "      <td>1/22/2020 17:00</td>\n",
       "      <td>14.0</td>\n",
       "      <td>0.0</td>\n",
       "      <td>0.0</td>\n",
       "    </tr>\n",
       "    <tr>\n",
       "      <th>2</th>\n",
       "      <td>3</td>\n",
       "      <td>01/22/2020</td>\n",
       "      <td>Chongqing</td>\n",
       "      <td>Mainland China</td>\n",
       "      <td>1/22/2020 17:00</td>\n",
       "      <td>6.0</td>\n",
       "      <td>0.0</td>\n",
       "      <td>0.0</td>\n",
       "    </tr>\n",
       "    <tr>\n",
       "      <th>3</th>\n",
       "      <td>4</td>\n",
       "      <td>01/22/2020</td>\n",
       "      <td>Fujian</td>\n",
       "      <td>Mainland China</td>\n",
       "      <td>1/22/2020 17:00</td>\n",
       "      <td>1.0</td>\n",
       "      <td>0.0</td>\n",
       "      <td>0.0</td>\n",
       "    </tr>\n",
       "    <tr>\n",
       "      <th>4</th>\n",
       "      <td>5</td>\n",
       "      <td>01/22/2020</td>\n",
       "      <td>Gansu</td>\n",
       "      <td>Mainland China</td>\n",
       "      <td>1/22/2020 17:00</td>\n",
       "      <td>0.0</td>\n",
       "      <td>0.0</td>\n",
       "      <td>0.0</td>\n",
       "    </tr>\n",
       "  </tbody>\n",
       "</table>\n",
       "</div>"
      ],
      "text/plain": [
       "   SNo ObservationDate Province/State  ... Confirmed Deaths  Recovered\n",
       "0    1      01/22/2020          Anhui  ...       1.0    0.0        0.0\n",
       "1    2      01/22/2020        Beijing  ...      14.0    0.0        0.0\n",
       "2    3      01/22/2020      Chongqing  ...       6.0    0.0        0.0\n",
       "3    4      01/22/2020         Fujian  ...       1.0    0.0        0.0\n",
       "4    5      01/22/2020          Gansu  ...       0.0    0.0        0.0\n",
       "\n",
       "[5 rows x 8 columns]"
      ]
     },
     "execution_count": 3,
     "metadata": {
      "tags": []
     },
     "output_type": "execute_result"
    }
   ],
   "source": [
    "data.head()"
   ]
  },
  {
   "cell_type": "code",
   "execution_count": 0,
   "metadata": {
    "colab": {
     "base_uri": "https://localhost:8080/",
     "height": 274
    },
    "colab_type": "code",
    "id": "q814fJrHodpM",
    "outputId": "c3d8764c-80aa-4298-df42-7fc9d869ae24"
   },
   "outputs": [
    {
     "name": "stdout",
     "output_type": "stream",
     "text": [
      "<class 'pandas.core.frame.DataFrame'>\n",
      "RangeIndex: 40805 entries, 0 to 40804\n",
      "Data columns (total 8 columns):\n",
      " #   Column           Non-Null Count  Dtype  \n",
      "---  ------           --------------  -----  \n",
      " 0   SNo              40805 non-null  int64  \n",
      " 1   ObservationDate  40805 non-null  object \n",
      " 2   Province/State   22790 non-null  object \n",
      " 3   Country/Region   40805 non-null  object \n",
      " 4   Last Update      40805 non-null  object \n",
      " 5   Confirmed        40805 non-null  float64\n",
      " 6   Deaths           40805 non-null  float64\n",
      " 7   Recovered        40805 non-null  float64\n",
      "dtypes: float64(3), int64(1), object(4)\n",
      "memory usage: 2.5+ MB\n"
     ]
    }
   ],
   "source": [
    "data.info()"
   ]
  },
  {
   "cell_type": "markdown",
   "metadata": {
    "colab_type": "text",
    "id": "M8J6IEMOrUFn"
   },
   "source": [
    "Information about the dataset:\n",
    "\n",
    "There are 8 features:\n",
    "\n",
    "* SNo: Serial number\n",
    "* ObservationDate: Date of observation of the cases (format: MM/DD/YYYY)\n",
    "* Province/State: Province or State of the country where cases were observed\n",
    "* Country/Region: Country where cases were observed\n",
    "* Last Update: Time in UTC at which the row is updated for the given province or country. (It is not in a standard format)\n",
    "* Confirmed: Cumulative number of confirmed cases till the date\n",
    "* Deaths: Cumulative number of deaths till the date\n",
    "* Recovered: Cumulative number of recovered cases till date"
   ]
  },
  {
   "cell_type": "markdown",
   "metadata": {
    "colab_type": "text",
    "id": "od9LbEPxppS9"
   },
   "source": [
    "**Instruction for the learner:** \n",
    "* Recommended to revise 'groupby()' method of pandas\n",
    "* Recommended to understand the word **'Cummulative'** properly for three features - 'Confirmed', 'Recovered' and 'Deaths'.\n",
    "* Please note that the dtype of datetime columns are of object, convert them to datetime as shown below:"
   ]
  },
  {
   "cell_type": "code",
   "execution_count": 0,
   "metadata": {
    "colab": {},
    "colab_type": "code",
    "id": "JYVE29SnpmKQ"
   },
   "outputs": [],
   "source": [
    "data['ObservationDate'] = pd.to_datetime(data['ObservationDate'])\n",
    "data['Last Update'] = pd.to_datetime(data['Last Update'])"
   ]
  },
  {
   "cell_type": "code",
   "execution_count": 0,
   "metadata": {
    "colab": {
     "base_uri": "https://localhost:8080/",
     "height": 203
    },
    "colab_type": "code",
    "id": "oN52OvsyrnDo",
    "outputId": "80413531-be55-440f-b9a4-57e65ffee7b0"
   },
   "outputs": [
    {
     "data": {
      "text/html": [
       "<div>\n",
       "<style scoped>\n",
       "    .dataframe tbody tr th:only-of-type {\n",
       "        vertical-align: middle;\n",
       "    }\n",
       "\n",
       "    .dataframe tbody tr th {\n",
       "        vertical-align: top;\n",
       "    }\n",
       "\n",
       "    .dataframe thead th {\n",
       "        text-align: right;\n",
       "    }\n",
       "</style>\n",
       "<table border=\"1\" class=\"dataframe\">\n",
       "  <thead>\n",
       "    <tr style=\"text-align: right;\">\n",
       "      <th></th>\n",
       "      <th>SNo</th>\n",
       "      <th>ObservationDate</th>\n",
       "      <th>Province/State</th>\n",
       "      <th>Country/Region</th>\n",
       "      <th>Last Update</th>\n",
       "      <th>Confirmed</th>\n",
       "      <th>Deaths</th>\n",
       "      <th>Recovered</th>\n",
       "    </tr>\n",
       "  </thead>\n",
       "  <tbody>\n",
       "    <tr>\n",
       "      <th>0</th>\n",
       "      <td>1</td>\n",
       "      <td>2020-01-22</td>\n",
       "      <td>Anhui</td>\n",
       "      <td>Mainland China</td>\n",
       "      <td>2020-01-22 17:00:00</td>\n",
       "      <td>1.0</td>\n",
       "      <td>0.0</td>\n",
       "      <td>0.0</td>\n",
       "    </tr>\n",
       "    <tr>\n",
       "      <th>1</th>\n",
       "      <td>2</td>\n",
       "      <td>2020-01-22</td>\n",
       "      <td>Beijing</td>\n",
       "      <td>Mainland China</td>\n",
       "      <td>2020-01-22 17:00:00</td>\n",
       "      <td>14.0</td>\n",
       "      <td>0.0</td>\n",
       "      <td>0.0</td>\n",
       "    </tr>\n",
       "    <tr>\n",
       "      <th>2</th>\n",
       "      <td>3</td>\n",
       "      <td>2020-01-22</td>\n",
       "      <td>Chongqing</td>\n",
       "      <td>Mainland China</td>\n",
       "      <td>2020-01-22 17:00:00</td>\n",
       "      <td>6.0</td>\n",
       "      <td>0.0</td>\n",
       "      <td>0.0</td>\n",
       "    </tr>\n",
       "    <tr>\n",
       "      <th>3</th>\n",
       "      <td>4</td>\n",
       "      <td>2020-01-22</td>\n",
       "      <td>Fujian</td>\n",
       "      <td>Mainland China</td>\n",
       "      <td>2020-01-22 17:00:00</td>\n",
       "      <td>1.0</td>\n",
       "      <td>0.0</td>\n",
       "      <td>0.0</td>\n",
       "    </tr>\n",
       "    <tr>\n",
       "      <th>4</th>\n",
       "      <td>5</td>\n",
       "      <td>2020-01-22</td>\n",
       "      <td>Gansu</td>\n",
       "      <td>Mainland China</td>\n",
       "      <td>2020-01-22 17:00:00</td>\n",
       "      <td>0.0</td>\n",
       "      <td>0.0</td>\n",
       "      <td>0.0</td>\n",
       "    </tr>\n",
       "  </tbody>\n",
       "</table>\n",
       "</div>"
      ],
      "text/plain": [
       "   SNo ObservationDate Province/State  ... Confirmed Deaths  Recovered\n",
       "0    1      2020-01-22          Anhui  ...       1.0    0.0        0.0\n",
       "1    2      2020-01-22        Beijing  ...      14.0    0.0        0.0\n",
       "2    3      2020-01-22      Chongqing  ...       6.0    0.0        0.0\n",
       "3    4      2020-01-22         Fujian  ...       1.0    0.0        0.0\n",
       "4    5      2020-01-22          Gansu  ...       0.0    0.0        0.0\n",
       "\n",
       "[5 rows x 8 columns]"
      ]
     },
     "execution_count": 6,
     "metadata": {
      "tags": []
     },
     "output_type": "execute_result"
    }
   ],
   "source": [
    "data.head()"
   ]
  },
  {
   "cell_type": "markdown",
   "metadata": {
    "colab_type": "text",
    "id": "1qfPXb-4q1Jz"
   },
   "source": [
    "**Question 1**\n",
    "\n",
    "Which of the following is correct month of median observation date?\n",
    "\n",
    "1. January\n",
    "2. March\n",
    "3. April\n",
    "4. May"
   ]
  },
  {
   "cell_type": "markdown",
   "metadata": {
    "colab_type": "text",
    "id": "JqSD_cc8sOIu"
   },
   "source": [
    "**Question 2**\n",
    "\n",
    "Create a subset of your data, only taking observations which was **last updated** on **2020-06-13 03:33:14** and name this dataframe as updated_data. Select the correct statement about this dataframe i.e. **updated_data**?\n",
    "\n",
    "1. There are 729 observations / records\n",
    "2. There are 190 unique country's records available in the dataframe\n",
    "3. There are 223 unique country's records available in the dataframe.\n",
    "4. This dataset doesn't have any missing values.\n"
   ]
  },
  {
   "cell_type": "markdown",
   "metadata": {
    "colab_type": "text",
    "id": "BIFaBUmOwNfl"
   },
   "source": [
    "**Question 3**\n",
    "\n",
    "Create a subset of data from the dataframe **updated_data**, only taking the top 10 countries which have the maximum number of confirmed cases with features - **'Country/Region', 'Confirmed', 'Deaths' and 'Recovered'**. Name this dataframe as 'top_10'. Which of the following countries are not present in the dataframe 'top_10'.\n",
    "\n",
    "1. Germany\n",
    "2. Iran\n",
    "3. India\n",
    "4. Spain\n",
    "5. Peru\n",
    "6. Chile \n",
    "7. Mexico\n",
    "8. Pakistan\n",
    "9. USA\n",
    "10. UK"
   ]
  },
  {
   "cell_type": "markdown",
   "metadata": {
    "colab_type": "text",
    "id": "7k_8-2_YzYf2"
   },
   "source": [
    "**Question 4**\n",
    "\n",
    "Which country has the lowest number of confirmed cases among the ten countries in top_10 dataframe?\n",
    "\n",
    "1. Germany\n",
    "2. France\n",
    "3. India\n",
    "4. UK\n",
    "\n"
   ]
  },
  {
   "cell_type": "markdown",
   "metadata": {
    "colab_type": "text",
    "id": "cFr3JKW20Fj0"
   },
   "source": [
    "**Question 5**\n",
    "\n",
    "Add two columns in top_10 dataframe - 'Recovered_percentage' and 'Deaths_percentage' where, \n",
    "\n",
    "'Recovered_percentage' = (Recovered cases / Confirmed cases) * 100\n",
    "\n",
    "'Death_percentage' = (Deaths cases / Confirmed cases) * 100\n",
    "\n",
    "Among these 10 countries which country has the highest recovery percent?\n",
    "\n",
    "1. India\n",
    "2. Italy\n",
    "3. Spain\n",
    "4. Germany\n",
    "\n"
   ]
  },
  {
   "cell_type": "markdown",
   "metadata": {
    "colab_type": "text",
    "id": "wNzOhfw91YWM"
   },
   "source": [
    "**Question 6**\n",
    "\n",
    "Among the ten countries in top_10 dataframe, which country has the lowest death percentage?\n",
    "\n",
    "1. India\n",
    "2. UK\n",
    "3. USA\n",
    "4. Germany\n",
    "5. Russia\n"
   ]
  },
  {
   "cell_type": "markdown",
   "metadata": {
    "colab_type": "text",
    "id": "JizIv2F72KhM"
   },
   "source": [
    "**Question 7**\n",
    "\n",
    "Create a subset of data from the initially loaded data i.e. the datafram **'data'**, which should include the day wise observations of country 'Germany' only with features - **'ObservationDate', 'Confirmed', 'Recovered', 'Deaths'**. Name this dataframe as 'Germany_data'. From the dataset 'Germany_data', what does it look like?\n",
    "[Note: Here you need graphs to visualize]\n",
    "\n",
    "1. The rate of confirmed cases and the rate of recovered cases are going parallel to each other.\n",
    "2. The rate of recovered cases is more than the rate of confirmed cases.\n",
    "\n"
   ]
  },
  {
   "cell_type": "markdown",
   "metadata": {
    "colab_type": "text",
    "id": "OjMMs4as6udG"
   },
   "source": [
    "**Question 8**\n",
    "\n",
    "Take the help of the dataframe 'updated_data' to get the total confirmed, recovered and deaths cases worldwide. Choose the correct option\n",
    "\n",
    "1. Confirmed cases worldwide is 7632802.\n",
    "2. Recovered cases worldwide is 3613277.\n",
    "3. Total number of deaths worldwide is 425394."
   ]
  },
  {
   "cell_type": "markdown",
   "metadata": {
    "colab_type": "text",
    "id": "4pDoTDIx9iiO"
   },
   "source": [
    "**Question 9**\n",
    "\n",
    "Get the data of USA from the dataframe 'updated_data', group the data state/province wise. Which of the following information is correct about Province/State of USA?\n",
    "\n",
    "1. New York has the highest number of confirmed cases.\n",
    "2. Massachusetts has the 5th highest number of confirmed cases."
   ]
  }
 ],
 "metadata": {
  "colab": {
   "name": "Assignment_2_EDA_I-A.ipynb",
   "provenance": []
  },
  "kernelspec": {
   "display_name": "Python 3",
   "language": "python",
   "name": "python3"
  },
  "language_info": {
   "codemirror_mode": {
    "name": "ipython",
    "version": 3
   },
   "file_extension": ".py",
   "mimetype": "text/x-python",
   "name": "python",
   "nbconvert_exporter": "python",
   "pygments_lexer": "ipython3",
   "version": "3.8.5"
  }
 },
 "nbformat": 4,
 "nbformat_minor": 1
}
